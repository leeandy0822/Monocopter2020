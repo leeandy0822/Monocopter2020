{
 "cells": [
  {
   "cell_type": "code",
   "execution_count": 16,
   "metadata": {},
   "outputs": [
    {
     "name": "stdout",
     "output_type": "stream",
     "text": [
      "r1長度為:  0.183 m\n",
      "r2長度為:  0.163 m\n",
      "靜力平衡兩端誤差: Abs(0.686*r1 - 0.8722*r2 + 0.01568)\n"
     ]
    }
   ],
   "source": [
    "from sympy import symbols, Eq, solve\n",
    "from math import *\n",
    "#係數\n",
    "beta = 4\n",
    "num = radians(beta)\n",
    "g = 9.8\n",
    "\n",
    "#重量\n",
    "m1 = 0.07\n",
    "m2 = 0.089\n",
    "m3 = 0.074581\n",
    "m4 = 0.034581\n",
    "m5 = 0.012007\n",
    "\n",
    "#一些咚咚\n",
    "M = m1 + m2 + m3 + m4 + m5\n",
    "\n",
    "L = M*9.8/cos(num)\n",
    "omega_2 = M*9.8/0.00209\n",
    "\n",
    "#一些長度\n",
    "r3 = 0.04\n",
    "r4 = 0.04\n",
    "r6 = r4*tan(num)\n",
    "r7 = r3*tan(num)\n",
    "\n",
    "#equation constant\n",
    "cons1 =  -1*L*sin(num)  +  (m4*r4*omega_2)  -  (m3*r3*omega_2)\n",
    "cons2 =  m4*g*r4  +  m4*r4*omega_2*r6  +  r3*m3*omega_2*r7 -  m3*g*r3  #+L*sin(radians(beta))*r5\n",
    "\n",
    "r1,r2= symbols('r1 r2')\n",
    "\n",
    "eq1 = Eq(m2*r2*omega_2 - m1*r1*omega_2 + cons1,0)\n",
    "eq2 = Eq(m2*g*r2  +  m2*r2*omega_2*r2*tan(num)  +  m1*r1*omega_2*r1*tan(num)  -  m1*g*r1  -  L*sin(num)*r2*tan(num)  -  L*cos(num)*r2 +  cons2,0)\n",
    "\n",
    "sol = solve([eq1, eq2],[r1, r2])\n",
    "print(\"r1長度為: \",round(sol[1][0],3),\"m\")\n",
    "print(\"r2長度為: \",round(sol[1][1],3),\"m\")\n",
    "freq = sqrt(omega_2)/(2*pi)\n",
    "D = 0.27\n",
    "T = 0.219*9.8\n",
    "\n",
    "error = abs(m2*r2*g + m4*g*r4 - m3*r3*g - m1*r1*g)\n",
    "print('靜力平衡兩端誤差:',error)"
   ]
  },
  {
   "cell_type": "code",
   "execution_count": null,
   "metadata": {},
   "outputs": [],
   "source": []
  },
  {
   "cell_type": "code",
   "execution_count": 348,
   "metadata": {},
   "outputs": [
    {
     "name": "stdout",
     "output_type": "stream",
     "text": [
      "Lift force:  2.5951779229872107\n",
      "1st equation answer: -2.46469511466785e-14\n",
      "2nd equation answer: -5.41233724504764e-16\n"
     ]
    }
   ],
   "source": [
    "#驗算\n",
    "r1 = sol[1][0]\n",
    "r2 = sol[1][1]\n",
    "print('1st equation answer:',m2*r2*omega_2 - m1*r1*omega_2 + cons1)\n",
    "print('2nd equation answer:',m2*g*r2  +  m2*r2*omega_2*r2*tan(num)  +  m1*r1*omega_2*r1*tan(num)  -  m1*g*r1  -  L*sin(num)*r2*tan(num)  -  L*cos(num)*r2 +  cons2)\n",
    "print('Lift force: ',L)\n",
    "print('1st equation answer:',m2*r2*omega_2 - m1*r1*omega_2 + cons1)\n",
    "print('2nd equation answer:',m2*g*r2  +  m2*r2*omega_2*r2*tan(num)  +  m1*r1*omega_2*r1*tan(num)  -  m1*g*r1  -  L*sin(num)*r2*tan(num)  -  L*cos(num)*r2 +  cons2)"
   ]
  },
  {
   "cell_type": "code",
   "execution_count": 344,
   "metadata": {},
   "outputs": [
    {
     "name": "stdout",
     "output_type": "stream",
     "text": [
      "靜力平衡兩端誤差: 0.00143224096222680\n"
     ]
    }
   ],
   "source": []
  },
  {
   "cell_type": "code",
   "execution_count": 345,
   "metadata": {},
   "outputs": [
    {
     "data": {
      "text/plain": [
       "0.264169"
      ]
     },
     "execution_count": 345,
     "metadata": {},
     "output_type": "execute_result"
    }
   ],
   "source": [
    "M"
   ]
  },
  {
   "cell_type": "code",
   "execution_count": 279,
   "metadata": {},
   "outputs": [
    {
     "data": {
      "text/plain": [
       "2.130692458484522"
      ]
     },
     "execution_count": 279,
     "metadata": {},
     "output_type": "execute_result"
    }
   ],
   "source": [
    "M*g/cos(num)"
   ]
  },
  {
   "cell_type": "code",
   "execution_count": null,
   "metadata": {},
   "outputs": [],
   "source": []
  },
  {
   "cell_type": "code",
   "execution_count": null,
   "metadata": {},
   "outputs": [],
   "source": []
  },
  {
   "cell_type": "code",
   "execution_count": null,
   "metadata": {},
   "outputs": [],
   "source": []
  }
 ],
 "metadata": {
  "kernelspec": {
   "display_name": "Python 3",
   "language": "python",
   "name": "python3"
  },
  "language_info": {
   "codemirror_mode": {
    "name": "ipython",
    "version": 3
   },
   "file_extension": ".py",
   "mimetype": "text/x-python",
   "name": "python",
   "nbconvert_exporter": "python",
   "pygments_lexer": "ipython3",
   "version": "3.8.3"
  }
 },
 "nbformat": 4,
 "nbformat_minor": 4
}
